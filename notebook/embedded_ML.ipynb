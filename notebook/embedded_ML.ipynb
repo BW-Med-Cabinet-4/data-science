{
 "cells": [
  {
   "cell_type": "code",
   "execution_count": 1,
   "metadata": {},
   "outputs": [],
   "source": [
    " import basilica"
   ]
  },
  {
   "cell_type": "code",
   "execution_count": 2,
   "metadata": {},
   "outputs": [],
   "source": [
    "import pandas as pd"
   ]
  },
  {
   "cell_type": "code",
   "execution_count": 3,
   "metadata": {},
   "outputs": [],
   "source": [
    "import numpy as np"
   ]
  },
  {
   "cell_type": "code",
   "execution_count": 4,
   "metadata": {},
   "outputs": [],
   "source": [
    "df = pd.read_csv('data/merged_df.csv')"
   ]
  },
  {
   "cell_type": "code",
   "execution_count": 5,
   "metadata": {},
   "outputs": [],
   "source": [
    "df = df.fillna('none')"
   ]
  },
  {
   "cell_type": "code",
   "execution_count": 6,
   "metadata": {},
   "outputs": [],
   "source": [
    "df['combined_text'] = df.name + \" \" + df.flavors +  \" \" + df.race + \" \" + df.positive + \" \" + df.negative + \" \" + df.medical + \" \" + df.Description"
   ]
  },
  {
   "cell_type": "code",
   "execution_count": 7,
   "metadata": {},
   "outputs": [],
   "source": [
    "key='2386d269-f7e1-7126-6045-8b52f9192e03'"
   ]
  },
  {
   "cell_type": "code",
   "execution_count": 8,
   "metadata": {},
   "outputs": [],
   "source": [
    "with basilica.Connection(key) as c:\n",
    "    embedded = []\n",
    "    for row in df['combined_text']:\n",
    "        sentence = row\n",
    "        embedding = list(c.embed_sentence(sentence))\n",
    "        embedded.append(embedding)\n",
    "    df['embedded'] = embedded"
   ]
  },
  {
   "cell_type": "code",
   "execution_count": 9,
   "metadata": {},
   "outputs": [],
   "source": [
    "\n",
    "data_input = np.stack(df['embedded'].values, axis=0)"
   ]
  },
  {
   "cell_type": "code",
   "execution_count": 10,
   "metadata": {},
   "outputs": [],
   "source": [
    "dtm = pd.DataFrame(data_input)"
   ]
  },
  {
   "cell_type": "code",
   "execution_count": 11,
   "metadata": {},
   "outputs": [],
   "source": [
    "from sklearn.neighbors import NearestNeighbors"
   ]
  },
  {
   "cell_type": "code",
   "execution_count": 12,
   "metadata": {},
   "outputs": [
    {
     "data": {
      "text/plain": [
       "NearestNeighbors(algorithm='kd_tree', leaf_size=30, metric='minkowski',\n",
       "         metric_params=None, n_jobs=None, n_neighbors=5, p=2, radius=1.0)"
      ]
     },
     "execution_count": 12,
     "metadata": {},
     "output_type": "execute_result"
    }
   ],
   "source": [
    "nn = NearestNeighbors(n_neighbors=5, algorithm='kd_tree')\n",
    "nn.fit(dtm)"
   ]
  },
  {
   "cell_type": "code",
   "execution_count": 13,
   "metadata": {},
   "outputs": [],
   "source": [
    "user_input = \" help with pain and stress but has a sweet flavor\"\n",
    "with basilica.Connection(key) as c:\n",
    "    embedded = c.embed_sentence(user_input)\n",
    "\n",
    "embedded = np.stack([embedded], axis=0)"
   ]
  },
  {
   "cell_type": "code",
   "execution_count": 14,
   "metadata": {},
   "outputs": [],
   "source": [
    "score,strain= nn.kneighbors(embedded)"
   ]
  },
  {
   "cell_type": "code",
   "execution_count": 15,
   "metadata": {},
   "outputs": [
    {
     "data": {
      "text/plain": [
       "array([[ 22, 148, 110, 311, 302]])"
      ]
     },
     "execution_count": 15,
     "metadata": {},
     "output_type": "execute_result"
    }
   ],
   "source": [
    "strain"
   ]
  },
  {
   "cell_type": "code",
   "execution_count": 18,
   "metadata": {},
   "outputs": [],
   "source": [
    "strains = [df[['name', 'medical','flavors']].loc[n] for n in strain]"
   ]
  },
  {
   "cell_type": "code",
   "execution_count": 19,
   "metadata": {},
   "outputs": [
    {
     "data": {
      "text/plain": [
       "[          name                                            medical  \\\n",
       " 22      Avalon           Insomnia, Pain, Stress, Nausea, Headache   \n",
       " 148      Gumbo  Depression, Insomnia, Pain, Stress, Headache, ...   \n",
       " 110     Dopium  Depression, Pain, Stress, Nausea, Headache, He...   \n",
       " 311    Trident  Depression, Pain, Stress, Inflammation, Muscle...   \n",
       " 302  Tangilope  Depression, Pain, Stress, Lack of Appetite, Fa...   \n",
       " \n",
       "                              flavors  \n",
       " 22              Earthy, Nutty, Sweet  \n",
       " 148  Earthy, Sweet, Pungent, Flowery  \n",
       " 110            Pine, Pungent, Earthy  \n",
       " 311   Pungent, Earthy, Citrus, Sweet  \n",
       " 302  Sweet, Citrus, Orange, Tropical  ]"
      ]
     },
     "execution_count": 19,
     "metadata": {},
     "output_type": "execute_result"
    }
   ],
   "source": [
    "strains"
   ]
  },
  {
   "cell_type": "code",
   "execution_count": null,
   "metadata": {},
   "outputs": [],
   "source": []
  }
 ],
 "metadata": {
  "kernelspec": {
   "display_name": "U4-S1-NLP",
   "language": "python",
   "name": "u4-s1-nlp"
  },
  "language_info": {
   "codemirror_mode": {
    "name": "ipython",
    "version": 3
   },
   "file_extension": ".py",
   "mimetype": "text/x-python",
   "name": "python",
   "nbconvert_exporter": "python",
   "pygments_lexer": "ipython3",
   "version": "3.7.0"
  }
 },
 "nbformat": 4,
 "nbformat_minor": 4
}
